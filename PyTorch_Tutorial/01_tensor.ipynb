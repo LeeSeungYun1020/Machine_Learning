{
  "nbformat": 4,
  "nbformat_minor": 0,
  "metadata": {
    "colab": {
      "name": "PyTorch Tutorial - 01 tensor.ipynb",
      "provenance": [],
      "collapsed_sections": [],
      "authorship_tag": "ABX9TyM5iU9J9NKbNiJk+t9ylo+u",
      "include_colab_link": true
    },
    "kernelspec": {
      "name": "python3",
      "display_name": "Python 3"
    },
    "language_info": {
      "name": "python"
    },
    "accelerator": "GPU"
  },
  "cells": [
    {
      "cell_type": "markdown",
      "metadata": {
        "id": "view-in-github",
        "colab_type": "text"
      },
      "source": [
        "<a href=\"https://colab.research.google.com/github/LeeSeungYun1020/Machine_Learning/blob/main/PyTorch_Tutorial/01_tensor.ipynb\" target=\"_parent\"><img src=\"https://colab.research.google.com/assets/colab-badge.svg\" alt=\"Open In Colab\"/></a>"
      ]
    },
    {
      "cell_type": "code",
      "metadata": {
        "id": "UBB5bsVu7tLg"
      },
      "source": [
        "%matplotlib inline"
      ],
      "execution_count": 1,
      "outputs": []
    },
    {
      "cell_type": "markdown",
      "metadata": {
        "id": "TFtpDQA18l49"
      },
      "source": [
        "# 파이토치 기본 익히기"
      ]
    },
    {
      "cell_type": "code",
      "metadata": {
        "id": "Yt-IC_-V8z6g"
      },
      "source": [
        "import torch\n",
        "import numpy as np"
      ],
      "execution_count": 2,
      "outputs": []
    },
    {
      "cell_type": "markdown",
      "metadata": {
        "id": "Xa8ilpb785Fp"
      },
      "source": [
        "## 텐서"
      ]
    },
    {
      "cell_type": "markdown",
      "metadata": {
        "id": "FYa8rHHYDZwm"
      },
      "source": [
        "### 텐서 초기화"
      ]
    },
    {
      "cell_type": "markdown",
      "metadata": {
        "id": "YL5Yto4K87oi"
      },
      "source": [
        "텐서는 numpy의 ndarray와 유사하다.\n",
        "명시적으로 오버라이드하지 않으면 텐서의 속성(모양과 자료형)은 유지된다."
      ]
    },
    {
      "cell_type": "code",
      "metadata": {
        "colab": {
          "base_uri": "https://localhost:8080/"
        },
        "id": "58MJEVNe9DL5",
        "outputId": "3e57c606-380d-41d1-b053-8253715f0eef"
      },
      "source": [
        "data = [[1, 2], [3, 4]]\n",
        "x_data = torch.tensor(data)\n",
        "x_data"
      ],
      "execution_count": 4,
      "outputs": [
        {
          "output_type": "execute_result",
          "data": {
            "text/plain": [
              "tensor([[1, 2],\n",
              "        [3, 4]])"
            ]
          },
          "metadata": {
            "tags": []
          },
          "execution_count": 4
        }
      ]
    },
    {
      "cell_type": "code",
      "metadata": {
        "colab": {
          "base_uri": "https://localhost:8080/"
        },
        "id": "5RgnsYkO9Lpd",
        "outputId": "eb5856c3-ce2d-4fa7-cbaf-58f04410f973"
      },
      "source": [
        "x_np = torch.from_numpy(np.array(data))\n",
        "x_np"
      ],
      "execution_count": 7,
      "outputs": [
        {
          "output_type": "execute_result",
          "data": {
            "text/plain": [
              "tensor([[1, 2],\n",
              "        [3, 4]])"
            ]
          },
          "metadata": {
            "tags": []
          },
          "execution_count": 7
        }
      ]
    },
    {
      "cell_type": "code",
      "metadata": {
        "colab": {
          "base_uri": "https://localhost:8080/"
        },
        "id": "563n0NEk9XG4",
        "outputId": "b532d053-4ae4-4add-97a1-6e0ef01bc2f4"
      },
      "source": [
        "torch.ones_like(x_data)"
      ],
      "execution_count": 9,
      "outputs": [
        {
          "output_type": "execute_result",
          "data": {
            "text/plain": [
              "tensor([[1, 1],\n",
              "        [1, 1]])"
            ]
          },
          "metadata": {
            "tags": []
          },
          "execution_count": 9
        }
      ]
    },
    {
      "cell_type": "code",
      "metadata": {
        "colab": {
          "base_uri": "https://localhost:8080/"
        },
        "id": "Q_QF-dFX9fDF",
        "outputId": "84e2e0e0-5298-477a-86d9-273e0ffe02ce"
      },
      "source": [
        "# 자료형이 유지되므로 float로 명시적으로 바꾸어 주어야\n",
        "torch.rand_like(x_data, dtype=torch.float)"
      ],
      "execution_count": 13,
      "outputs": [
        {
          "output_type": "execute_result",
          "data": {
            "text/plain": [
              "tensor([[0.3677, 0.8244],\n",
              "        [0.5424, 0.5921]])"
            ]
          },
          "metadata": {
            "tags": []
          },
          "execution_count": 13
        }
      ]
    },
    {
      "cell_type": "code",
      "metadata": {
        "colab": {
          "base_uri": "https://localhost:8080/"
        },
        "id": "7sXFmCEK9ppd",
        "outputId": "4cfac1ef-9429-4c6e-da85-051665231e20"
      },
      "source": [
        "shape = (3, 2)\n",
        "rand_tensor = torch.rand(shape)\n",
        "ones_tensor = torch.ones(shape)\n",
        "zeros_tensor = torch.zeros(shape)\n",
        "\n",
        "print(\"RAND\\n\", rand_tensor)\n",
        "print(\"ONES\\n\", ones_tensor)\n",
        "print(\"ZEROS\\n\", zeros_tensor)"
      ],
      "execution_count": 15,
      "outputs": [
        {
          "output_type": "stream",
          "text": [
            "RAND\n",
            " tensor([[0.0720, 0.0192],\n",
            "        [0.1800, 0.3191],\n",
            "        [0.8245, 0.0194]])\n",
            "ONES\n",
            " tensor([[1., 1.],\n",
            "        [1., 1.],\n",
            "        [1., 1.]])\n",
            "ZEROS\n",
            " tensor([[0., 0.],\n",
            "        [0., 0.],\n",
            "        [0., 0.]])\n"
          ],
          "name": "stdout"
        }
      ]
    },
    {
      "cell_type": "markdown",
      "metadata": {
        "id": "JJk88ZIwDrch"
      },
      "source": [
        "### 텐서의 속성"
      ]
    },
    {
      "cell_type": "code",
      "metadata": {
        "colab": {
          "base_uri": "https://localhost:8080/"
        },
        "id": "9ZWrryOO-ekW",
        "outputId": "34376ce1-0007-42aa-94dc-dec70dc2ab58"
      },
      "source": [
        "tensor = torch.rand(1, 2)\n",
        "tensor"
      ],
      "execution_count": 4,
      "outputs": [
        {
          "output_type": "execute_result",
          "data": {
            "text/plain": [
              "tensor([[0.7702, 0.5660]])"
            ]
          },
          "metadata": {
            "tags": []
          },
          "execution_count": 4
        }
      ]
    },
    {
      "cell_type": "code",
      "metadata": {
        "colab": {
          "base_uri": "https://localhost:8080/"
        },
        "id": "xF21LG-i-ibt",
        "outputId": "d32e8b2d-0411-40ff-f2dd-17c139bf8331"
      },
      "source": [
        "tensor.shape"
      ],
      "execution_count": 19,
      "outputs": [
        {
          "output_type": "execute_result",
          "data": {
            "text/plain": [
              "torch.Size([1, 2])"
            ]
          },
          "metadata": {
            "tags": []
          },
          "execution_count": 19
        }
      ]
    },
    {
      "cell_type": "code",
      "metadata": {
        "colab": {
          "base_uri": "https://localhost:8080/"
        },
        "id": "i4E5WJPS-kEN",
        "outputId": "3fca1611-3a80-47f0-b2e0-fae65b6f3ad8"
      },
      "source": [
        "tensor.dtype"
      ],
      "execution_count": 20,
      "outputs": [
        {
          "output_type": "execute_result",
          "data": {
            "text/plain": [
              "torch.float32"
            ]
          },
          "metadata": {
            "tags": []
          },
          "execution_count": 20
        }
      ]
    },
    {
      "cell_type": "code",
      "metadata": {
        "colab": {
          "base_uri": "https://localhost:8080/"
        },
        "id": "D4zvcJkj-lt0",
        "outputId": "e840ad95-b573-4f9d-c1af-45d6b2a9a558"
      },
      "source": [
        "tensor.device"
      ],
      "execution_count": 21,
      "outputs": [
        {
          "output_type": "execute_result",
          "data": {
            "text/plain": [
              "device(type='cpu')"
            ]
          },
          "metadata": {
            "tags": []
          },
          "execution_count": 21
        }
      ]
    },
    {
      "cell_type": "markdown",
      "metadata": {
        "id": "S6IziKPZDU2H"
      },
      "source": [
        "### 텐서 연산"
      ]
    },
    {
      "cell_type": "markdown",
      "metadata": {
        "id": "WIMDyhsLDx06"
      },
      "source": [
        "#### GPU에서 연산 실행"
      ]
    },
    {
      "cell_type": "code",
      "metadata": {
        "id": "voggMR8E-nkp"
      },
      "source": [
        "if torch.cuda.is_available():\n",
        "  tensor = tensor.to('cuda')"
      ],
      "execution_count": 5,
      "outputs": []
    },
    {
      "cell_type": "code",
      "metadata": {
        "colab": {
          "base_uri": "https://localhost:8080/"
        },
        "id": "gcKy16bx_Qq6",
        "outputId": "08f7441f-6e82-4ec7-e627-21cf7485ffce"
      },
      "source": [
        "tensor = torch.ones(4, 4)\n",
        "print(tensor[0])\n",
        "print(tensor[:,0])\n",
        "print(tensor[..., -1])\n",
        "tensor[..., -1] = 0\n",
        "tensor"
      ],
      "execution_count": 12,
      "outputs": [
        {
          "output_type": "stream",
          "text": [
            "tensor([1., 1., 1., 1.])\n",
            "tensor([1., 1., 1., 1.])\n",
            "tensor([1., 1., 1., 1.])\n"
          ],
          "name": "stdout"
        },
        {
          "output_type": "execute_result",
          "data": {
            "text/plain": [
              "tensor([[1., 1., 1., 0.],\n",
              "        [1., 1., 1., 0.],\n",
              "        [1., 1., 1., 0.],\n",
              "        [1., 1., 1., 0.]])"
            ]
          },
          "metadata": {
            "tags": []
          },
          "execution_count": 12
        }
      ]
    },
    {
      "cell_type": "code",
      "metadata": {
        "colab": {
          "base_uri": "https://localhost:8080/"
        },
        "id": "3sM0K6eeC_WD",
        "outputId": "8ec1c783-8a52-4d9c-d1f5-d84f97c8d56a"
      },
      "source": [
        "t1 = torch.cat([tensor, tensor], dim=1)\n",
        "t1"
      ],
      "execution_count": 18,
      "outputs": [
        {
          "output_type": "execute_result",
          "data": {
            "text/plain": [
              "tensor([[1., 1., 1., 0., 1., 1., 1., 0.],\n",
              "        [1., 1., 1., 0., 1., 1., 1., 0.],\n",
              "        [1., 1., 1., 0., 1., 1., 1., 0.],\n",
              "        [1., 1., 1., 0., 1., 1., 1., 0.]])"
            ]
          },
          "metadata": {
            "tags": []
          },
          "execution_count": 18
        }
      ]
    },
    {
      "cell_type": "code",
      "metadata": {
        "colab": {
          "base_uri": "https://localhost:8080/"
        },
        "id": "ob3oa4rtDJmI",
        "outputId": "c832042a-f183-4714-8812-a673e35dcef6"
      },
      "source": [
        "t2 = torch.cat([tensor, tensor])\n",
        "t2"
      ],
      "execution_count": 17,
      "outputs": [
        {
          "output_type": "execute_result",
          "data": {
            "text/plain": [
              "tensor([[1., 1., 1., 0.],\n",
              "        [1., 1., 1., 0.],\n",
              "        [1., 1., 1., 0.],\n",
              "        [1., 1., 1., 0.],\n",
              "        [1., 1., 1., 0.],\n",
              "        [1., 1., 1., 0.],\n",
              "        [1., 1., 1., 0.],\n",
              "        [1., 1., 1., 0.]])"
            ]
          },
          "metadata": {
            "tags": []
          },
          "execution_count": 17
        }
      ]
    },
    {
      "cell_type": "code",
      "metadata": {
        "colab": {
          "base_uri": "https://localhost:8080/"
        },
        "id": "ki1XqG1XDR-G",
        "outputId": "a7eb2ccd-7c16-42d9-cf01-f8c57f35c86b"
      },
      "source": [
        "tensor=torch.tensor([[1, 2], [3, 4]])\n",
        "print(tensor)"
      ],
      "execution_count": 22,
      "outputs": [
        {
          "output_type": "stream",
          "text": [
            "tensor([[1, 2],\n",
            "        [3, 4]])\n"
          ],
          "name": "stdout"
        }
      ]
    },
    {
      "cell_type": "code",
      "metadata": {
        "colab": {
          "base_uri": "https://localhost:8080/"
        },
        "id": "gEb5w6BlEkzh",
        "outputId": "70ade318-b4b1-42d8-e42d-c1070d4b4168"
      },
      "source": [
        "tensor @ tensor.T # 행렬 곱 계산\n",
        "tensor.matmul(tensor.T) # 같은 연산"
      ],
      "execution_count": 26,
      "outputs": [
        {
          "output_type": "execute_result",
          "data": {
            "text/plain": [
              "tensor([[ 5, 11],\n",
              "        [11, 25]])"
            ]
          },
          "metadata": {
            "tags": []
          },
          "execution_count": 26
        }
      ]
    },
    {
      "cell_type": "code",
      "metadata": {
        "colab": {
          "base_uri": "https://localhost:8080/"
        },
        "id": "uO3zaBR7El9Q",
        "outputId": "de07bb5a-224d-4b74-f01f-ef80d2cdae0a"
      },
      "source": [
        "tensor * tensor # 요소별 곱 계산\n",
        "tensor.mul(tensor) # 같은 연산"
      ],
      "execution_count": 28,
      "outputs": [
        {
          "output_type": "execute_result",
          "data": {
            "text/plain": [
              "tensor([[ 1,  4],\n",
              "        [ 9, 16]])"
            ]
          },
          "metadata": {
            "tags": []
          },
          "execution_count": 28
        }
      ]
    },
    {
      "cell_type": "code",
      "metadata": {
        "colab": {
          "base_uri": "https://localhost:8080/"
        },
        "id": "96Zg5HLfFBvI",
        "outputId": "b2331c6f-ce37-4939-d683-251912a393e6"
      },
      "source": [
        "agg = tensor.sum()\n",
        "agg_item =agg.item()\n",
        "print(agg, agg_item, type(agg_item)) \n",
        "# 요소가 하나인 텐서는 item()으로 숫자값 변환됨"
      ],
      "execution_count": 34,
      "outputs": [
        {
          "output_type": "stream",
          "text": [
            "tensor(10) 10 <class 'int'>\n"
          ],
          "name": "stdout"
        }
      ]
    },
    {
      "cell_type": "code",
      "metadata": {
        "colab": {
          "base_uri": "https://localhost:8080/"
        },
        "id": "KU0p3z4PGiZC",
        "outputId": "c00e3a91-5491-4467-b12e-e988e78dbb16"
      },
      "source": [
        "print(tensor)\n",
        "tensor.add(5)\n",
        "print(tensor)\n",
        "# 일반적인 연산은 파연산자에 결과가 저장되지 않음\n",
        "tensor.add_(5)\n",
        "print(tensor)\n",
        "# in-place 연산은 _ 접미사를 가지며 피연산자의 값을 결과 값으로 변경"
      ],
      "execution_count": 40,
      "outputs": [
        {
          "output_type": "stream",
          "text": [
            "tensor([[1, 2],\n",
            "        [3, 4]])\n",
            "tensor([[1, 2],\n",
            "        [3, 4]])\n",
            "tensor([[6, 7],\n",
            "        [8, 9]])\n"
          ],
          "name": "stdout"
        }
      ]
    },
    {
      "cell_type": "code",
      "metadata": {
        "colab": {
          "base_uri": "https://localhost:8080/"
        },
        "id": "VPgTt0q-HZhr",
        "outputId": "d5e23a56-f1ba-4852-a3c9-26672833ea6a"
      },
      "source": [
        "t = torch.ones(5)\n",
        "n = t.numpy()\n",
        "n"
      ],
      "execution_count": 43,
      "outputs": [
        {
          "output_type": "execute_result",
          "data": {
            "text/plain": [
              "array([1., 1., 1., 1., 1.], dtype=float32)"
            ]
          },
          "metadata": {
            "tags": []
          },
          "execution_count": 43
        }
      ]
    },
    {
      "cell_type": "code",
      "metadata": {
        "colab": {
          "base_uri": "https://localhost:8080/"
        },
        "id": "mjZlyAP8Hj9-",
        "outputId": "db28b40b-02d5-493e-f0f9-0924ae0cff90"
      },
      "source": [
        "t.add_(1)\n",
        "n\n",
        "# t의 변경 사항이 n에도 반영됨!!!"
      ],
      "execution_count": 44,
      "outputs": [
        {
          "output_type": "execute_result",
          "data": {
            "text/plain": [
              "array([2., 2., 2., 2., 2.], dtype=float32)"
            ]
          },
          "metadata": {
            "tags": []
          },
          "execution_count": 44
        }
      ]
    },
    {
      "cell_type": "code",
      "metadata": {
        "colab": {
          "base_uri": "https://localhost:8080/"
        },
        "id": "Jvg8cJoSHp5V",
        "outputId": "8e801798-db72-4e3f-ab38-16349bb2da62"
      },
      "source": [
        "n = np.ones(5)\n",
        "t = torch.from_numpy(n)\n",
        "t"
      ],
      "execution_count": 52,
      "outputs": [
        {
          "output_type": "execute_result",
          "data": {
            "text/plain": [
              "tensor([1., 1., 1., 1., 1.], dtype=torch.float64)"
            ]
          },
          "metadata": {
            "tags": []
          },
          "execution_count": 52
        }
      ]
    },
    {
      "cell_type": "code",
      "metadata": {
        "colab": {
          "base_uri": "https://localhost:8080/"
        },
        "id": "CTQJ-pCrIX5N",
        "outputId": "d37dadd2-62aa-47f9-80b0-1850c5b5520c"
      },
      "source": [
        "np.add(n, 1, out=n)\n",
        "t\n",
        "# n의 변경 사항이 t에도 반영됨!!!"
      ],
      "execution_count": 53,
      "outputs": [
        {
          "output_type": "execute_result",
          "data": {
            "text/plain": [
              "tensor([2., 2., 2., 2., 2.], dtype=torch.float64)"
            ]
          },
          "metadata": {
            "tags": []
          },
          "execution_count": 53
        }
      ]
    },
    {
      "cell_type": "code",
      "metadata": {
        "colab": {
          "base_uri": "https://localhost:8080/"
        },
        "id": "NNfarfXwIj3e",
        "outputId": "0f5f83c0-0666-4504-96ac-5e9652c76ce1"
      },
      "source": [
        "t.add_(2)\n",
        "n\n",
        "# 서로 완전히 연동"
      ],
      "execution_count": 54,
      "outputs": [
        {
          "output_type": "execute_result",
          "data": {
            "text/plain": [
              "array([4., 4., 4., 4., 4.])"
            ]
          },
          "metadata": {
            "tags": []
          },
          "execution_count": 54
        }
      ]
    }
  ]
}