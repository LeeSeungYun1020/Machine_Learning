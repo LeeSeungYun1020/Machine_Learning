{
  "nbformat": 4,
  "nbformat_minor": 0,
  "metadata": {
    "colab": {
      "name": "05_Autograd.ipynb",
      "provenance": [],
      "mount_file_id": "1f4eye6bPUo8C2Nvb-PXchVLH4UDA_iYb",
      "authorship_tag": "ABX9TyP0+wmRZW8ThAsJzLyLzz3D",
      "include_colab_link": true
    },
    "kernelspec": {
      "name": "python3",
      "display_name": "Python 3"
    },
    "language_info": {
      "name": "python"
    }
  },
  "cells": [
    {
      "cell_type": "markdown",
      "metadata": {
        "id": "view-in-github",
        "colab_type": "text"
      },
      "source": [
        "<a href=\"https://colab.research.google.com/github/LeeSeungYun1020/Machine_Learning/blob/main/PyTorch_Tutorial/05_Autograd.ipynb\" target=\"_parent\"><img src=\"https://colab.research.google.com/assets/colab-badge.svg\" alt=\"Open In Colab\"/></a>"
      ]
    },
    {
      "cell_type": "markdown",
      "metadata": {
        "id": "oQv8zYDR9S01"
      },
      "source": [
        "# AUTOGRAD"
      ]
    },
    {
      "cell_type": "markdown",
      "metadata": {
        "id": "TSoln8nC9Lth"
      },
      "source": [
        "## AUTOGRAD를 이용한 자동 미분"
      ]
    },
    {
      "cell_type": "markdown",
      "metadata": {
        "id": "ak22grmI9yD7"
      },
      "source": [
        "z = x * w + b  \n",
        "loss = z CE y"
      ]
    },
    {
      "cell_type": "code",
      "metadata": {
        "id": "vff6Edhh9IXP"
      },
      "source": [
        "import torch"
      ],
      "execution_count": 12,
      "outputs": []
    },
    {
      "cell_type": "code",
      "metadata": {
        "id": "0lXTI_fB9-yO"
      },
      "source": [
        "x = torch.ones(5)  # input tensor\n",
        "y = torch.zeros(3)  # expected output\n",
        "w = torch.randn(5, 3, requires_grad=True)\n",
        "b = torch.randn(3, requires_grad=True)\n",
        "z = torch.matmul(x, w)+b\n",
        "loss = torch.nn.functional.binary_cross_entropy_with_logits(z, y)"
      ],
      "execution_count": 13,
      "outputs": []
    },
    {
      "cell_type": "code",
      "metadata": {
        "colab": {
          "base_uri": "https://localhost:8080/"
        },
        "id": "tMFXtKxl-CEP",
        "outputId": "d77cca1f-4926-49a8-f6a9-6b05d9d2a95b"
      },
      "source": [
        "loss"
      ],
      "execution_count": 14,
      "outputs": [
        {
          "output_type": "execute_result",
          "data": {
            "text/plain": [
              "tensor(1.6373, grad_fn=<BinaryCrossEntropyWithLogitsBackward>)"
            ]
          },
          "metadata": {
            "tags": []
          },
          "execution_count": 14
        }
      ]
    },
    {
      "cell_type": "markdown",
      "metadata": {
        "id": "9CHdyfkd_H0C"
      },
      "source": [
        "## Tensor, Function과 연산그래프"
      ]
    },
    {
      "cell_type": "code",
      "metadata": {
        "colab": {
          "base_uri": "https://localhost:8080/"
        },
        "id": "dF59YxqG-PBi",
        "outputId": "9a43dd71-4cdb-4b67-c7cc-4ff44e088105"
      },
      "source": [
        "z.grad_fn"
      ],
      "execution_count": 15,
      "outputs": [
        {
          "output_type": "execute_result",
          "data": {
            "text/plain": [
              "<AddBackward0 at 0x7fc6ca00a250>"
            ]
          },
          "metadata": {
            "tags": []
          },
          "execution_count": 15
        }
      ]
    },
    {
      "cell_type": "code",
      "metadata": {
        "colab": {
          "base_uri": "https://localhost:8080/"
        },
        "id": "IMSH9r1i-ULQ",
        "outputId": "23f10535-681e-4f98-f36e-0c8c7c543571"
      },
      "source": [
        "loss.grad_fn"
      ],
      "execution_count": 16,
      "outputs": [
        {
          "output_type": "execute_result",
          "data": {
            "text/plain": [
              "<BinaryCrossEntropyWithLogitsBackward at 0x7fc6ca00a590>"
            ]
          },
          "metadata": {
            "tags": []
          },
          "execution_count": 16
        }
      ]
    },
    {
      "cell_type": "markdown",
      "metadata": {
        "id": "OeNB0SV__Lab"
      },
      "source": [
        "## Gradient(변화도) 계산"
      ]
    },
    {
      "cell_type": "code",
      "metadata": {
        "id": "_foMLTXI-WlI"
      },
      "source": [
        "loss.backward()"
      ],
      "execution_count": 17,
      "outputs": []
    },
    {
      "cell_type": "code",
      "metadata": {
        "colab": {
          "base_uri": "https://localhost:8080/"
        },
        "id": "oJHxztW0-fCR",
        "outputId": "143c2e59-fc46-4eca-cbc0-9384503e0c62"
      },
      "source": [
        "w.grad"
      ],
      "execution_count": 18,
      "outputs": [
        {
          "output_type": "execute_result",
          "data": {
            "text/plain": [
              "tensor([[0.3077, 0.3009, 0.0050],\n",
              "        [0.3077, 0.3009, 0.0050],\n",
              "        [0.3077, 0.3009, 0.0050],\n",
              "        [0.3077, 0.3009, 0.0050],\n",
              "        [0.3077, 0.3009, 0.0050]])"
            ]
          },
          "metadata": {
            "tags": []
          },
          "execution_count": 18
        }
      ]
    },
    {
      "cell_type": "code",
      "metadata": {
        "colab": {
          "base_uri": "https://localhost:8080/"
        },
        "id": "hKFe63iL-ku-",
        "outputId": "8f2c5f5a-7428-4d34-d7e0-e67ff7d79e5c"
      },
      "source": [
        "b.grad"
      ],
      "execution_count": 19,
      "outputs": [
        {
          "output_type": "execute_result",
          "data": {
            "text/plain": [
              "tensor([0.3077, 0.3009, 0.0050])"
            ]
          },
          "metadata": {
            "tags": []
          },
          "execution_count": 19
        }
      ]
    },
    {
      "cell_type": "markdown",
      "metadata": {
        "id": "-ZNOBVa1_SMO"
      },
      "source": [
        "## 변화도 추적 중단\n",
        "- 순전파(모델 학습 후 입력 데이터에 단순 적용)\n",
        "- 고정 매개변수로 표시, 사전 학습된 신경망 미세조정\n",
        "- 연산 속도 향상"
      ]
    },
    {
      "cell_type": "code",
      "metadata": {
        "colab": {
          "base_uri": "https://localhost:8080/"
        },
        "id": "zSweRATt-ryp",
        "outputId": "1777b553-7ab7-49ab-df23-6fdfb3297634"
      },
      "source": [
        "z = torch.matmul(x, w)+b\n",
        "print(z.requires_grad)\n",
        "\n",
        "with torch.no_grad():\n",
        "    z = torch.matmul(x, w)+b\n",
        "print(z.requires_grad)"
      ],
      "execution_count": 20,
      "outputs": [
        {
          "output_type": "stream",
          "text": [
            "True\n",
            "False\n"
          ],
          "name": "stdout"
        }
      ]
    },
    {
      "cell_type": "code",
      "metadata": {
        "colab": {
          "base_uri": "https://localhost:8080/"
        },
        "id": "XxjLdlTl-xJd",
        "outputId": "b9eafc69-e94f-4202-b043-c848ed98223a"
      },
      "source": [
        "z = torch.matmul(x, w)+b\n",
        "z_det = z.detach()\n",
        "print(z_det.requires_grad)"
      ],
      "execution_count": 21,
      "outputs": [
        {
          "output_type": "stream",
          "text": [
            "False\n"
          ],
          "name": "stdout"
        }
      ]
    }
  ]
}