{
  "nbformat": 4,
  "nbformat_minor": 0,
  "metadata": {
    "colab": {
      "name": "04_neural_network.ipynb",
      "provenance": [],
      "authorship_tag": "ABX9TyMNGyoreLxktLoEmFXojcxF",
      "include_colab_link": true
    },
    "kernelspec": {
      "name": "python3",
      "display_name": "Python 3"
    },
    "language_info": {
      "name": "python"
    },
    "accelerator": "GPU"
  },
  "cells": [
    {
      "cell_type": "markdown",
      "metadata": {
        "id": "view-in-github",
        "colab_type": "text"
      },
      "source": [
        "<a href=\"https://colab.research.google.com/github/LeeSeungYun1020/Machine_Learning/blob/main/PyTorch_Tutorial/04_neural_network.ipynb\" target=\"_parent\"><img src=\"https://colab.research.google.com/assets/colab-badge.svg\" alt=\"Open In Colab\"/></a>"
      ]
    },
    {
      "cell_type": "markdown",
      "metadata": {
        "id": "c1vKzCpcJvG1"
      },
      "source": [
        "# 신경망 모델 구성"
      ]
    },
    {
      "cell_type": "code",
      "metadata": {
        "id": "eqLQmKwLJkw9"
      },
      "source": [
        "import os\n",
        "import torch\n",
        "from torch import nn\n",
        "from torch.utils.data import DataLoader\n",
        "from torchvision import datasets, transforms"
      ],
      "execution_count": 2,
      "outputs": []
    },
    {
      "cell_type": "code",
      "metadata": {
        "colab": {
          "base_uri": "https://localhost:8080/"
        },
        "id": "y-0TX-gkJ34L",
        "outputId": "107e23a9-f5a1-4b42-833a-33d3351d2781"
      },
      "source": [
        "device = 'cuda' if torch.cuda.is_available() else 'cpu'\n",
        "print('Using {} device'.format(device))"
      ],
      "execution_count": 3,
      "outputs": [
        {
          "output_type": "stream",
          "text": [
            "Using cuda device\n"
          ],
          "name": "stdout"
        }
      ]
    },
    {
      "cell_type": "markdown",
      "metadata": {
        "id": "Z2hXjlwOKiSi"
      },
      "source": [
        "## 클래스 정의"
      ]
    },
    {
      "cell_type": "code",
      "metadata": {
        "id": "6N8CqVGpJ6Z6"
      },
      "source": [
        "class NeuralNetwork(nn.Module): # nn.Module 상속\n",
        "    def __init__(self):\n",
        "        super(NeuralNetwork, self).__init__()\n",
        "        self.flatten = nn.Flatten()\n",
        "        self.linear_relu_stack = nn.Sequential(\n",
        "            nn.Linear(28*28, 512),\n",
        "            nn.ReLU(),\n",
        "            nn.Linear(512, 512),\n",
        "            nn.ReLU(),\n",
        "            nn.Linear(512, 10),\n",
        "            nn.ReLU()\n",
        "        )\n",
        "\n",
        "    def forward(self, x): # 입력 데이터에 대한 연산 구현\n",
        "        x = self.flatten(x)\n",
        "        logits = self.linear_relu_stack(x)\n",
        "        return logits"
      ],
      "execution_count": 4,
      "outputs": []
    },
    {
      "cell_type": "code",
      "metadata": {
        "colab": {
          "base_uri": "https://localhost:8080/"
        },
        "id": "X1dg2TeNKNLm",
        "outputId": "1e99a571-c3ab-4e71-81bb-52fb1ff5ecd5"
      },
      "source": [
        "model = NeuralNetwork().to(device)\n",
        "print(model)"
      ],
      "execution_count": 20,
      "outputs": [
        {
          "output_type": "stream",
          "text": [
            "NeuralNetwork(\n",
            "  (flatten): Flatten(start_dim=1, end_dim=-1)\n",
            "  (linear_relu_stack): Sequential(\n",
            "    (0): Linear(in_features=784, out_features=512, bias=True)\n",
            "    (1): ReLU()\n",
            "    (2): Linear(in_features=512, out_features=512, bias=True)\n",
            "    (3): ReLU()\n",
            "    (4): Linear(in_features=512, out_features=10, bias=True)\n",
            "    (5): ReLU()\n",
            "  )\n",
            ")\n"
          ],
          "name": "stdout"
        }
      ]
    },
    {
      "cell_type": "code",
      "metadata": {
        "colab": {
          "base_uri": "https://localhost:8080/"
        },
        "id": "FpRv46AdKQCw",
        "outputId": "a9a0d0a7-1c98-4e1f-a812-3572f74f1eef"
      },
      "source": [
        "X = torch.rand(1, 28, 28, device=device)\n",
        "logits = model(X)\n",
        "pred_probab = nn.Softmax(dim=1)(logits)\n",
        "y_pred = pred_probab.argmax(1)\n",
        "print(f\"Predicted class: {y_pred}\")"
      ],
      "execution_count": 21,
      "outputs": [
        {
          "output_type": "stream",
          "text": [
            "Predicted class: tensor([4], device='cuda:0')\n"
          ],
          "name": "stdout"
        }
      ]
    },
    {
      "cell_type": "markdown",
      "metadata": {
        "id": "kDG7XfjkLY5m"
      },
      "source": [
        "## 모델 레이어"
      ]
    },
    {
      "cell_type": "code",
      "metadata": {
        "colab": {
          "base_uri": "https://localhost:8080/"
        },
        "id": "cBTI5Kn4KTHh",
        "outputId": "1ac62217-1f4f-46a8-d4c0-f8d4c4358994"
      },
      "source": [
        "input_image = torch.rand(3,28,28)\n",
        "print(input_image.size())"
      ],
      "execution_count": 22,
      "outputs": [
        {
          "output_type": "stream",
          "text": [
            "torch.Size([3, 28, 28])\n"
          ],
          "name": "stdout"
        }
      ]
    },
    {
      "cell_type": "code",
      "metadata": {
        "colab": {
          "base_uri": "https://localhost:8080/"
        },
        "id": "X9kHWSP3KVr6",
        "outputId": "d8bfc86a-2ed8-4af7-cc22-66dc6c3b7186"
      },
      "source": [
        "flatten = nn.Flatten()\n",
        "flat_image = flatten(input_image)\n",
        "print(flat_image.size())"
      ],
      "execution_count": 23,
      "outputs": [
        {
          "output_type": "stream",
          "text": [
            "torch.Size([3, 784])\n"
          ],
          "name": "stdout"
        }
      ]
    },
    {
      "cell_type": "code",
      "metadata": {
        "colab": {
          "base_uri": "https://localhost:8080/"
        },
        "id": "t396tDKfKXMk",
        "outputId": "2631930a-f1aa-4494-b89a-fb8323fb51dd"
      },
      "source": [
        "layer1 = nn.Linear(in_features=28*28, out_features=20)\n",
        "hidden1 = layer1(flat_image)\n",
        "print(hidden1.size())"
      ],
      "execution_count": 24,
      "outputs": [
        {
          "output_type": "stream",
          "text": [
            "torch.Size([3, 20])\n"
          ],
          "name": "stdout"
        }
      ]
    },
    {
      "cell_type": "code",
      "metadata": {
        "colab": {
          "base_uri": "https://localhost:8080/"
        },
        "id": "4HHeYIc-KYGr",
        "outputId": "c20f7652-ff0e-4ce0-bad2-6073f6e416d1"
      },
      "source": [
        "print(f\"Before ReLU: {hidden1}\\n\\n\")\n",
        "hidden1 = nn.ReLU()(hidden1)\n",
        "print(f\"After ReLU: {hidden1}\")"
      ],
      "execution_count": 25,
      "outputs": [
        {
          "output_type": "stream",
          "text": [
            "Before ReLU: tensor([[ 0.2568, -0.5703, -0.1965, -0.1314,  0.6258, -0.3945, -0.3267, -0.4322,\n",
            "          0.0963, -0.3938,  0.2595,  0.0992,  0.0396,  0.2334, -0.0479,  0.2588,\n",
            "          0.1410, -0.2071, -0.0766, -0.1861],\n",
            "        [-0.0397, -0.0023,  0.1884,  0.1532,  0.4790,  0.0958, -0.0661, -0.4277,\n",
            "         -0.3190,  0.2603,  0.0294,  0.0190, -0.2338,  0.4770, -0.0737,  0.2089,\n",
            "          0.1327, -0.2218, -0.3004, -0.0065],\n",
            "        [ 0.4303,  0.2442,  0.1286, -0.1526,  0.7949, -0.0266, -0.3079, -0.2904,\n",
            "          0.1377,  0.0688,  0.2126, -0.0905, -0.2558,  0.1807, -0.0222,  0.1117,\n",
            "         -0.0365, -0.0019, -0.2111, -0.3414]], grad_fn=<AddmmBackward>)\n",
            "\n",
            "\n",
            "After ReLU: tensor([[0.2568, 0.0000, 0.0000, 0.0000, 0.6258, 0.0000, 0.0000, 0.0000, 0.0963,\n",
            "         0.0000, 0.2595, 0.0992, 0.0396, 0.2334, 0.0000, 0.2588, 0.1410, 0.0000,\n",
            "         0.0000, 0.0000],\n",
            "        [0.0000, 0.0000, 0.1884, 0.1532, 0.4790, 0.0958, 0.0000, 0.0000, 0.0000,\n",
            "         0.2603, 0.0294, 0.0190, 0.0000, 0.4770, 0.0000, 0.2089, 0.1327, 0.0000,\n",
            "         0.0000, 0.0000],\n",
            "        [0.4303, 0.2442, 0.1286, 0.0000, 0.7949, 0.0000, 0.0000, 0.0000, 0.1377,\n",
            "         0.0688, 0.2126, 0.0000, 0.0000, 0.1807, 0.0000, 0.1117, 0.0000, 0.0000,\n",
            "         0.0000, 0.0000]], grad_fn=<ReluBackward0>)\n"
          ],
          "name": "stdout"
        }
      ]
    },
    {
      "cell_type": "code",
      "metadata": {
        "colab": {
          "base_uri": "https://localhost:8080/"
        },
        "id": "e4Mjgpu3KZ4M",
        "outputId": "af44746c-0685-4552-857f-ef27f60705f5"
      },
      "source": [
        "seq_modules = nn.Sequential(\n",
        "    flatten,\n",
        "    layer1,\n",
        "    nn.ReLU(),\n",
        "    nn.Linear(20, 10)\n",
        ")\n",
        "input_image = torch.rand(3,28,28)\n",
        "logits = seq_modules(input_image)\n",
        "print(logits)"
      ],
      "execution_count": 26,
      "outputs": [
        {
          "output_type": "stream",
          "text": [
            "tensor([[-0.0178,  0.1531, -0.0355,  0.0648, -0.0986,  0.1745,  0.1654,  0.1598,\n",
            "         -0.0421,  0.0367],\n",
            "        [-0.1466,  0.2282, -0.0624, -0.0625, -0.1833,  0.2792,  0.1579,  0.1556,\n",
            "          0.1245,  0.0188],\n",
            "        [-0.1903,  0.2723,  0.0202, -0.0644, -0.0259,  0.1620,  0.1184, -0.1197,\n",
            "          0.0558,  0.0869]], grad_fn=<AddmmBackward>)\n"
          ],
          "name": "stdout"
        }
      ]
    },
    {
      "cell_type": "code",
      "metadata": {
        "colab": {
          "base_uri": "https://localhost:8080/"
        },
        "id": "9TvbGgT_KbNU",
        "outputId": "162e2845-b8b8-4cdb-c816-8127e45cb3dd"
      },
      "source": [
        "softmax = nn.Softmax(dim=1)\n",
        "pred_probab = softmax(logits)\n",
        "print(softmax)\n",
        "print(pred_probab)\n",
        "#p = pred_probab[0] + pred_probab[1] + pred_probab[2]\n",
        "#print(p / 3)"
      ],
      "execution_count": 32,
      "outputs": [
        {
          "output_type": "stream",
          "text": [
            "Softmax(dim=1)\n",
            "tensor([[0.0925, 0.1097, 0.0908, 0.1004, 0.0853, 0.1121, 0.1110, 0.1104, 0.0902,\n",
            "         0.0976],\n",
            "        [0.0811, 0.1180, 0.0883, 0.0883, 0.0782, 0.1242, 0.1100, 0.1098, 0.1064,\n",
            "         0.0957],\n",
            "        [0.0794, 0.1261, 0.0980, 0.0901, 0.0936, 0.1130, 0.1081, 0.0852, 0.1016,\n",
            "         0.1048]], grad_fn=<SoftmaxBackward>)\n"
          ],
          "name": "stdout"
        }
      ]
    },
    {
      "cell_type": "markdown",
      "metadata": {
        "id": "ERdh_xioMHuH"
      },
      "source": [
        "## 모델 파라미터"
      ]
    },
    {
      "cell_type": "code",
      "metadata": {
        "colab": {
          "base_uri": "https://localhost:8080/"
        },
        "id": "ZxPjF-9GKdZS",
        "outputId": "b22c761a-e96e-4e1c-9844-3dbe473270ce"
      },
      "source": [
        "print(\"Model structure: \", model, \"\\n\\n\")\n",
        "\n",
        "for name, param in model.named_parameters():\n",
        "    print(f\"Layer: {name} | Size: {param.size()} | Values : {param[:2]} \\n\")"
      ],
      "execution_count": 35,
      "outputs": [
        {
          "output_type": "stream",
          "text": [
            "Model structure:  NeuralNetwork(\n",
            "  (flatten): Flatten(start_dim=1, end_dim=-1)\n",
            "  (linear_relu_stack): Sequential(\n",
            "    (0): Linear(in_features=784, out_features=512, bias=True)\n",
            "    (1): ReLU()\n",
            "    (2): Linear(in_features=512, out_features=512, bias=True)\n",
            "    (3): ReLU()\n",
            "    (4): Linear(in_features=512, out_features=10, bias=True)\n",
            "    (5): ReLU()\n",
            "  )\n",
            ") \n",
            "\n",
            "\n",
            "Layer: linear_relu_stack.0.weight | Size: torch.Size([512, 784]) | Values : tensor([[ 0.0142,  0.0124,  0.0089,  ...,  0.0305,  0.0306,  0.0274],\n",
            "        [ 0.0260, -0.0063, -0.0253,  ...,  0.0078,  0.0270, -0.0022]],\n",
            "       device='cuda:0', grad_fn=<SliceBackward>) \n",
            "\n",
            "Layer: linear_relu_stack.0.bias | Size: torch.Size([512]) | Values : tensor([ 0.0107, -0.0130], device='cuda:0', grad_fn=<SliceBackward>) \n",
            "\n",
            "Layer: linear_relu_stack.2.weight | Size: torch.Size([512, 512]) | Values : tensor([[ 0.0371, -0.0180, -0.0087,  ...,  0.0183, -0.0321,  0.0162],\n",
            "        [-0.0412,  0.0363,  0.0299,  ..., -0.0069, -0.0249,  0.0388]],\n",
            "       device='cuda:0', grad_fn=<SliceBackward>) \n",
            "\n",
            "Layer: linear_relu_stack.2.bias | Size: torch.Size([512]) | Values : tensor([0.0161, 0.0302], device='cuda:0', grad_fn=<SliceBackward>) \n",
            "\n",
            "Layer: linear_relu_stack.4.weight | Size: torch.Size([10, 512]) | Values : tensor([[ 0.0113,  0.0299, -0.0222,  ...,  0.0032, -0.0398,  0.0224],\n",
            "        [ 0.0247,  0.0152,  0.0118,  ..., -0.0249,  0.0139, -0.0353]],\n",
            "       device='cuda:0', grad_fn=<SliceBackward>) \n",
            "\n",
            "Layer: linear_relu_stack.4.bias | Size: torch.Size([10]) | Values : tensor([0.0390, 0.0331], device='cuda:0', grad_fn=<SliceBackward>) \n",
            "\n"
          ],
          "name": "stdout"
        }
      ]
    },
    {
      "cell_type": "code",
      "metadata": {
        "id": "2DmdXS4JKewO"
      },
      "source": [
        ""
      ],
      "execution_count": null,
      "outputs": []
    }
  ]
}