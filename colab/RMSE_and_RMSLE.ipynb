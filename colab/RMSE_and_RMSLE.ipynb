{
  "nbformat": 4,
  "nbformat_minor": 0,
  "metadata": {
    "colab": {
      "name": "RMSE and RMSLE.ipynb",
      "provenance": [],
      "authorship_tag": "ABX9TyPaQ1uQzahYvQ3zjXjH7nwI",
      "include_colab_link": true
    },
    "kernelspec": {
      "name": "python3",
      "display_name": "Python 3"
    },
    "language_info": {
      "name": "python"
    }
  },
  "cells": [
    {
      "cell_type": "markdown",
      "metadata": {
        "id": "view-in-github",
        "colab_type": "text"
      },
      "source": [
        "<a href=\"https://colab.research.google.com/github/LeeSeungYun1020/Machine_Learning/blob/main/colab/RMSE_and_RMSLE.ipynb\" target=\"_parent\"><img src=\"https://colab.research.google.com/assets/colab-badge.svg\" alt=\"Open In Colab\"/></a>"
      ]
    },
    {
      "cell_type": "markdown",
      "metadata": {
        "id": "Wq7JvnTxddrE"
      },
      "source": [
        "# RMSE vs RMSLE"
      ]
    },
    {
      "cell_type": "code",
      "metadata": {
        "id": "IkHBnZNedZtR"
      },
      "source": [
        "import numpy as np\n",
        "from sklearn.metrics import mean_squared_error, mean_squared_log_error"
      ],
      "execution_count": 2,
      "outputs": []
    },
    {
      "cell_type": "code",
      "metadata": {
        "id": "rB6icyv0dpxV"
      },
      "source": [
        "y = np.array([55, 65, 95])\n",
        "y_hat = np.array([50, 60, 90])"
      ],
      "execution_count": 3,
      "outputs": []
    },
    {
      "cell_type": "code",
      "metadata": {
        "colab": {
          "base_uri": "https://localhost:8080/"
        },
        "id": "o-4YJ2Sci12Z",
        "outputId": "6707957a-6c56-4886-a041-a1805d758ca2"
      },
      "source": [
        "mse = mean_squared_error(y, y_hat)\n",
        "rmse = np.sqrt(mse)\n",
        "print(rmse)"
      ],
      "execution_count": 8,
      "outputs": [
        {
          "output_type": "stream",
          "text": [
            "5.0\n"
          ],
          "name": "stdout"
        }
      ]
    },
    {
      "cell_type": "code",
      "metadata": {
        "colab": {
          "base_uri": "https://localhost:8080/"
        },
        "id": "tpq-YwIdi6p_",
        "outputId": "a76215d2-e946-4499-ada1-ef1584a230c7"
      },
      "source": [
        "msle = mean_squared_log_error(y, y_hat)\n",
        "rmsle = np.sqrt(msle)\n",
        "print(rmsle)"
      ],
      "execution_count": 7,
      "outputs": [
        {
          "output_type": "stream",
          "text": [
            "0.07705969473972135\n"
          ],
          "name": "stdout"
        }
      ]
    },
    {
      "cell_type": "markdown",
      "metadata": {
        "id": "URj-uzeYjeIG"
      },
      "source": [
        "- 이상치"
      ]
    },
    {
      "cell_type": "code",
      "metadata": {
        "colab": {
          "base_uri": "https://localhost:8080/"
        },
        "id": "I1X0OZyZjB97",
        "outputId": "c703587a-2e0c-4d65-ca3d-6d072930901c"
      },
      "source": [
        "y = np.array([55, 65, 95, 105])\n",
        "y_hat = np.array([50, 60, 90, 900])\n",
        "mse = mean_squared_error(y, y_hat)\n",
        "rmse = np.sqrt(mse)\n",
        "print(rmse)\n",
        "msle = mean_squared_log_error(y, y_hat)\n",
        "rmsle = np.sqrt(msle)\n",
        "print(rmsle)"
      ],
      "execution_count": 9,
      "outputs": [
        {
          "output_type": "stream",
          "text": [
            "397.52358420601917\n",
            "1.0721121412662231\n"
          ],
          "name": "stdout"
        }
      ]
    },
    {
      "cell_type": "markdown",
      "metadata": {
        "id": "qS0CnE2Zm5iE"
      },
      "source": [
        "- 상대적인 오차 비교"
      ]
    },
    {
      "cell_type": "code",
      "metadata": {
        "colab": {
          "base_uri": "https://localhost:8080/"
        },
        "id": "fBVe3rsYjuUu",
        "outputId": "fa1dcb3a-c750-4585-d3f2-1733fe4d9fc8"
      },
      "source": [
        "y = np.array([10])\n",
        "y_hat = np.array([100])\n",
        "mse = mean_squared_error(y, y_hat)\n",
        "rmse = np.sqrt(mse)\n",
        "print(rmse)\n",
        "msle = mean_squared_log_error(y, y_hat)\n",
        "rmsle = np.sqrt(msle)\n",
        "print(rmsle)"
      ],
      "execution_count": 10,
      "outputs": [
        {
          "output_type": "stream",
          "text": [
            "90.0\n",
            "2.217225244042889\n"
          ],
          "name": "stdout"
        }
      ]
    },
    {
      "cell_type": "code",
      "metadata": {
        "colab": {
          "base_uri": "https://localhost:8080/"
        },
        "id": "p0Yl2bItjwWN",
        "outputId": "4043d228-b5e6-4ffc-8cf4-77021dfb41fb"
      },
      "source": [
        "y = np.array([100])\n",
        "y_hat = np.array([1000])\n",
        "mse = mean_squared_error(y, y_hat)\n",
        "rmse = np.sqrt(mse)\n",
        "print(rmse)\n",
        "msle = mean_squared_log_error(y, y_hat)\n",
        "rmsle = np.sqrt(msle)\n",
        "print(rmsle)"
      ],
      "execution_count": 11,
      "outputs": [
        {
          "output_type": "stream",
          "text": [
            "900.0\n",
            "2.2936342624739607\n"
          ],
          "name": "stdout"
        }
      ]
    },
    {
      "cell_type": "markdown",
      "metadata": {
        "id": "QkbB9OS3lp2W"
      },
      "source": [
        "RMSLE\n",
        "- 이상치(아웃라이어)에 강함\n",
        "- 상대적인 오차 측정"
      ]
    }
  ]
}