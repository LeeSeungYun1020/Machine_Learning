{
  "nbformat": 4,
  "nbformat_minor": 0,
  "metadata": {
    "colab": {
      "name": "Evaluation.ipynb",
      "provenance": [],
      "authorship_tag": "ABX9TyOUn2xiBjeUeme5h55pv+gA",
      "include_colab_link": true
    },
    "kernelspec": {
      "name": "python3",
      "display_name": "Python 3"
    },
    "language_info": {
      "name": "python"
    }
  },
  "cells": [
    {
      "cell_type": "markdown",
      "metadata": {
        "id": "view-in-github",
        "colab_type": "text"
      },
      "source": [
        "<a href=\"https://colab.research.google.com/github/LeeSeungYun1020/Machine_Learning/blob/main/colab/Evaluation.ipynb\" target=\"_parent\"><img src=\"https://colab.research.google.com/assets/colab-badge.svg\" alt=\"Open In Colab\"/></a>"
      ]
    },
    {
      "cell_type": "markdown",
      "metadata": {
        "id": "Z14gJ11P0lVR"
      },
      "source": [
        "# 회귀"
      ]
    },
    {
      "cell_type": "markdown",
      "metadata": {
        "id": "6g0AFff3w-kq"
      },
      "source": [
        "## Linear Regression\n",
        "선형 회귀"
      ]
    },
    {
      "cell_type": "code",
      "metadata": {
        "id": "R4vIoaNKw80R"
      },
      "source": [
        "from sklearn.datasets import load_diabetes\n",
        "diabetes = load_diabetes()"
      ],
      "execution_count": 1,
      "outputs": []
    },
    {
      "cell_type": "code",
      "metadata": {
        "colab": {
          "base_uri": "https://localhost:8080/"
        },
        "id": "1PuUwwOrxS9O",
        "outputId": "4085a9f1-19cc-407a-819c-ddac9fc75477"
      },
      "source": [
        "print(diabetes.data.shape, diabetes.target.shape)"
      ],
      "execution_count": 5,
      "outputs": [
        {
          "output_type": "stream",
          "text": [
            "(442, 10) (442,)\n"
          ],
          "name": "stdout"
        }
      ]
    },
    {
      "cell_type": "code",
      "metadata": {
        "colab": {
          "base_uri": "https://localhost:8080/"
        },
        "id": "WcBk37mXxxcf",
        "outputId": "4b49f950-4874-44d9-f876-c557569688f6"
      },
      "source": [
        "diabetes.data[0:5]"
      ],
      "execution_count": 8,
      "outputs": [
        {
          "output_type": "execute_result",
          "data": {
            "text/plain": [
              "array([[ 0.03807591,  0.05068012,  0.06169621,  0.02187235, -0.0442235 ,\n",
              "        -0.03482076, -0.04340085, -0.00259226,  0.01990842, -0.01764613],\n",
              "       [-0.00188202, -0.04464164, -0.05147406, -0.02632783, -0.00844872,\n",
              "        -0.01916334,  0.07441156, -0.03949338, -0.06832974, -0.09220405],\n",
              "       [ 0.08529891,  0.05068012,  0.04445121, -0.00567061, -0.04559945,\n",
              "        -0.03419447, -0.03235593, -0.00259226,  0.00286377, -0.02593034],\n",
              "       [-0.08906294, -0.04464164, -0.01159501, -0.03665645,  0.01219057,\n",
              "         0.02499059, -0.03603757,  0.03430886,  0.02269202, -0.00936191],\n",
              "       [ 0.00538306, -0.04464164, -0.03638469,  0.02187235,  0.00393485,\n",
              "         0.01559614,  0.00814208, -0.00259226, -0.03199144, -0.04664087]])"
            ]
          },
          "metadata": {
            "tags": []
          },
          "execution_count": 8
        }
      ]
    },
    {
      "cell_type": "code",
      "metadata": {
        "colab": {
          "base_uri": "https://localhost:8080/",
          "height": 279
        },
        "id": "HIuI7WFLxX1c",
        "outputId": "a268ee40-9d6d-40b4-d03a-4d6a39b72205"
      },
      "source": [
        "import matplotlib.pyplot as plt\n",
        "plt.scatter(diabetes.data[:, 9], diabetes.target)\n",
        "plt.xlabel('x')\n",
        "plt.ylabel('y')\n",
        "plt.show()"
      ],
      "execution_count": 11,
      "outputs": [
        {
          "output_type": "display_data",
          "data": {
            "image/png": "[encoded data removed]",
            "text/plain": [
              "<Figure size 432x288 with 1 Axes>"
            ]
          },
          "metadata": {
            "tags": [],
            "needs_background": "light"
          }
        }
      ]
    },
    {
      "cell_type": "code",
      "metadata": {
        "colab": {
          "base_uri": "https://localhost:8080/"
        },
        "id": "MSol_pBbyFat",
        "outputId": "4fbc410c-3a82-428c-f602-b6834857f7f7"
      },
      "source": [
        "from sklearn.model_selection import train_test_split\n",
        "x_train, x_test, y_train, y_test = train_test_split(diabetes.data, diabetes.target, test_size = 0.3, random_state=82)\n",
        "print(x_train.shape, x_test.shape, y_train.shape, y_test.shape)"
      ],
      "execution_count": 15,
      "outputs": [
        {
          "output_type": "stream",
          "text": [
            "(309, 10) (133, 10) (309,) (133,)\n"
          ],
          "name": "stdout"
        }
      ]
    },
    {
      "cell_type": "code",
      "metadata": {
        "id": "C6wtkDYXyjRa"
      },
      "source": [
        "from sklearn.linear_model import LinearRegression\n",
        "linearRegressionModel = LinearRegression()\n",
        "linearRegressionModel.fit(x_train, y_train)\n",
        "predicted = linearRegressionModel.predict(x_test)"
      ],
      "execution_count": 18,
      "outputs": []
    },
    {
      "cell_type": "code",
      "metadata": {
        "colab": {
          "base_uri": "https://localhost:8080/"
        },
        "id": "-rBAmxfyzHMN",
        "outputId": "47d98bd5-758b-4569-b191-1c3dc52b2892"
      },
      "source": [
        "from sklearn.metrics import mean_squared_error, mean_squared_log_error\n",
        "import numpy as np\n",
        "\n",
        "print(np.sqrt(mean_squared_error(y_test, predicted)))\n",
        "print(np.sqrt(mean_squared_log_error(y_test, predicted)))\n",
        "print(linearRegressionModel.score(x_test, y_test))"
      ],
      "execution_count": 21,
      "outputs": [
        {
          "output_type": "stream",
          "text": [
            "57.6811522546071\n",
            "0.4375075845063971\n",
            "0.39715036214055843\n"
          ],
          "name": "stdout"
        }
      ]
    },
    {
      "cell_type": "markdown",
      "metadata": {
        "id": "gKgFCi020IGc"
      },
      "source": [
        "## Stochastic Gradient Descent\n",
        "경사하강법"
      ]
    },
    {
      "cell_type": "code",
      "metadata": {
        "id": "jyfWc4aLzh0V"
      },
      "source": [
        "from sklearn.linear_model import SGDRegressor\n",
        "sGDRegressionModel = SGDRegressor(max_iter=10000)\n",
        "sGDRegressionModel.fit(x_train, y_train)\n",
        "predicted = sGDRegressionModel.predict(x_test)"
      ],
      "execution_count": 25,
      "outputs": []
    },
    {
      "cell_type": "code",
      "metadata": {
        "colab": {
          "base_uri": "https://localhost:8080/"
        },
        "id": "vgE2KrCM0F9i",
        "outputId": "8fa70e07-49aa-46eb-9bd2-64f196ccd9b8"
      },
      "source": [
        "print(np.sqrt(mean_squared_error(y_test, predicted)))\n",
        "print(np.sqrt(mean_squared_log_error(y_test, predicted)))\n",
        "print(linearRegressionModel.score(x_test, y_test))"
      ],
      "execution_count": 26,
      "outputs": [
        {
          "output_type": "stream",
          "text": [
            "55.995736041391304\n",
            "0.43494307782239217\n",
            "0.39715036214055843\n"
          ],
          "name": "stdout"
        }
      ]
    },
    {
      "cell_type": "markdown",
      "metadata": {
        "id": "0uWdRt-X0hSY"
      },
      "source": [
        "# 분류"
      ]
    },
    {
      "cell_type": "markdown",
      "metadata": {
        "id": "OXwTWDii0s71"
      },
      "source": [
        "## "
      ]
    },
    {
      "cell_type": "code",
      "metadata": {
        "id": "TT4R-vnT0jLb"
      },
      "source": [
        "from sklearn.datasets import load_digits\n",
        "digits = load_digits()"
      ],
      "execution_count": 27,
      "outputs": []
    },
    {
      "cell_type": "code",
      "metadata": {
        "colab": {
          "base_uri": "https://localhost:8080/"
        },
        "id": "GrjaWe4o02dy",
        "outputId": "14f1a1fb-f2b2-4089-a4ba-bf301b3ae989"
      },
      "source": [
        "print(digits.data.shape, digits.target.shape)"
      ],
      "execution_count": 30,
      "outputs": [
        {
          "output_type": "stream",
          "text": [
            "(1797, 64) (1797,)\n"
          ],
          "name": "stdout"
        }
      ]
    },
    {
      "cell_type": "code",
      "metadata": {
        "colab": {
          "base_uri": "https://localhost:8080/",
          "height": 256
        },
        "id": "rDlv_Wew07wh",
        "outputId": "c0dcd7ef-63bb-469c-ae6d-b3dced08eee8"
      },
      "source": [
        "import matplotlib.pyplot as plt\n",
        "\n",
        "plt.figure(figsize=(20, 4))\n",
        "for index, (image, label) in enumerate(zip(digits.data[0:5], digits.target[0:5])):\n",
        "  plt.subplot(1, 5, index + 1)\n",
        "  plt.imshow(np.reshape(image, (8, 8)), cmap=plt.cm.gray)\n",
        "  plt.title(f\"Training: {label}\")"
      ],
      "execution_count": 35,
      "outputs": [
        {
          "output_type": "display_data",
          "data": {
            "image/png": "[encoded data removed]",
            "text/plain": [
              "<Figure size 1440x288 with 5 Axes>"
            ]
          },
          "metadata": {
            "tags": [],
            "needs_background": "light"
          }
        }
      ]
    },
    {
      "cell_type": "code",
      "metadata": {
        "colab": {
          "base_uri": "https://localhost:8080/"
        },
        "id": "t1UU-zfI2UBx",
        "outputId": "65a85713-f822-4834-9e59-28c5773fb5c4"
      },
      "source": [
        "from sklearn.model_selection import train_test_split\n",
        "x_train, x_test, y_train, y_test = train_test_split(digits.data, digits.target, test_size=0.3, random_state=82)\n",
        "print(x_train.shape, x_test.shape, y_train.shape, y_test.shape)"
      ],
      "execution_count": 40,
      "outputs": [
        {
          "output_type": "stream",
          "text": [
            "(1257, 64) (540, 64) (1257,) (540,)\n"
          ],
          "name": "stdout"
        }
      ]
    },
    {
      "cell_type": "code",
      "metadata": {
        "id": "-8fBQy-33G2t"
      },
      "source": [
        "from sklearn.linear_model import LogisticRegression\n",
        "logisticRegressionModel = LogisticRegression(max_iter=5000)\n",
        "logisticRegressionModel.fit(x_train, y_train)\n",
        "predicted = logisticRegressionModel.predict(x_test)"
      ],
      "execution_count": 54,
      "outputs": []
    },
    {
      "cell_type": "code",
      "metadata": {
        "colab": {
          "base_uri": "https://localhost:8080/"
        },
        "id": "PB-jGWTf3jY9",
        "outputId": "fb6ccc16-f6a6-41d0-892a-ef31d94dd17d"
      },
      "source": [
        "from sklearn.metrics import f1_score, precision_score, recall_score, confusion_matrix, classification_report\n",
        "print(precision_score(y_test, predicted, average=\"micro\"))\n",
        "print(recall_score(y_test, predicted, average=\"micro\"))\n",
        "print(f1_score(y_test, predicted, average=\"micro\"))"
      ],
      "execution_count": 55,
      "outputs": [
        {
          "output_type": "stream",
          "text": [
            "0.9574074074074074\n",
            "0.9574074074074074\n",
            "0.9574074074074074\n"
          ],
          "name": "stdout"
        }
      ]
    },
    {
      "cell_type": "code",
      "metadata": {
        "colab": {
          "base_uri": "https://localhost:8080/"
        },
        "id": "6uyfohgM3bbY",
        "outputId": "2dd195d2-02ad-4866-cbda-751665a388f8"
      },
      "source": [
        "from collections import Counter\n",
        "\n",
        "print(confusion_matrix(y_test, predicted))\n",
        "print(Counter([(test, test == predict) for test, predict in zip(y_test, predicted)]))"
      ],
      "execution_count": 64,
      "outputs": [
        {
          "output_type": "stream",
          "text": [
            "[[63  0  0  0  1  0  0  0  0  0]\n",
            " [ 0 53  0  0  1  0  1  0  0  0]\n",
            " [ 0  0 52  0  0  0  0  0  0  0]\n",
            " [ 0  0  0 53  0  3  0  0  1  0]\n",
            " [ 0  2  0  0 39  0  0  0  0  0]\n",
            " [ 0  0  0  0  0 56  0  0  0  1]\n",
            " [ 0  0  0  0  0  0 50  0  0  0]\n",
            " [ 0  0  0  0  1  0  0 47  0  1]\n",
            " [ 0  5  1  0  1  1  0  1 52  0]\n",
            " [ 0  0  0  0  0  1  0  0  1 52]]\n",
            "Counter({(0, True): 63, (5, True): 56, (3, True): 53, (1, True): 53, (2, True): 52, (8, True): 52, (9, True): 52, (6, True): 50, (7, True): 47, (4, True): 39, (8, False): 9, (3, False): 4, (4, False): 2, (9, False): 2, (7, False): 2, (1, False): 2, (0, False): 1, (5, False): 1})\n"
          ],
          "name": "stdout"
        }
      ]
    },
    {
      "cell_type": "code",
      "metadata": {
        "colab": {
          "base_uri": "https://localhost:8080/"
        },
        "id": "XxwRnreA4cce",
        "outputId": "25548c4c-dbf8-42da-bf41-1618708ee677"
      },
      "source": [
        "print(classification_report(y_test, predicted))"
      ],
      "execution_count": 57,
      "outputs": [
        {
          "output_type": "stream",
          "text": [
            "              precision    recall  f1-score   support\n",
            "\n",
            "           0       1.00      0.98      0.99        64\n",
            "           1       0.88      0.96      0.92        55\n",
            "           2       0.98      1.00      0.99        52\n",
            "           3       1.00      0.93      0.96        57\n",
            "           4       0.91      0.95      0.93        41\n",
            "           5       0.92      0.98      0.95        57\n",
            "           6       0.98      1.00      0.99        50\n",
            "           7       0.98      0.96      0.97        49\n",
            "           8       0.96      0.85      0.90        61\n",
            "           9       0.96      0.96      0.96        54\n",
            "\n",
            "    accuracy                           0.96       540\n",
            "   macro avg       0.96      0.96      0.96       540\n",
            "weighted avg       0.96      0.96      0.96       540\n",
            "\n"
          ],
          "name": "stdout"
        }
      ]
    }
  ]
}