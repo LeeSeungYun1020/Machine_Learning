{
  "nbformat": 4,
  "nbformat_minor": 0,
  "metadata": {
    "colab": {
      "name": "Ensemble.ipynb",
      "provenance": [],
      "authorship_tag": "ABX9TyOyvUJZV0pWqLVa5K9nfYhb",
      "include_colab_link": true
    },
    "kernelspec": {
      "name": "python3",
      "display_name": "Python 3"
    },
    "language_info": {
      "name": "python"
    }
  },
  "cells": [
    {
      "cell_type": "markdown",
      "metadata": {
        "id": "view-in-github",
        "colab_type": "text"
      },
      "source": [
        "<a href=\"https://colab.research.google.com/github/LeeSeungYun1020/Machine_Learning/blob/main/colab/Ensemble.ipynb\" target=\"_parent\"><img src=\"https://colab.research.google.com/assets/colab-badge.svg\" alt=\"Open In Colab\"/></a>"
      ]
    },
    {
      "cell_type": "markdown",
      "metadata": {
        "id": "O9uPly0emare"
      },
      "source": [
        "# 앙상블"
      ]
    },
    {
      "cell_type": "code",
      "metadata": {
        "id": "obxcKcLrmv-P"
      },
      "source": [
        "from sklearn.datasets import load_iris, load_wine, load_boston, load_diabetes\n",
        "from sklearn.model_selection import cross_validate, cross_val_score\n",
        "from sklearn.pipeline import make_pipeline"
      ],
      "execution_count": 11,
      "outputs": []
    },
    {
      "cell_type": "markdown",
      "metadata": {
        "id": "LNYPHMRKsNFM"
      },
      "source": [
        "- cross-validation 교차 검증\n",
        "  - 과적합 회피\n",
        "  - 훈련 데이터 전체를 한 번에 사용하지 않고 일부 남겨두고 테스트에 활용\n",
        "- cross_val_score\n",
        "  - `cross_val_score(model, X, Y, cv=반복 횟수)`\n",
        "  - 일반적으로 큰 값이 좋은 결과 나타냄\n",
        "  - 회귀 모델에서는 MSE를 얻기 위해 'neg_mean_squared_error' 자주 사용하며 0에 가까울수록 좋다."
      ]
    },
    {
      "cell_type": "code",
      "metadata": {
        "id": "pT_tsUhfnAhR"
      },
      "source": [
        "iris = load_iris()\n",
        "wine = load_wine()\n",
        "boston = load_boston()\n",
        "diabetes = load_diabetes()"
      ],
      "execution_count": 20,
      "outputs": []
    },
    {
      "cell_type": "markdown",
      "metadata": {
        "id": "Vo3oLiVPmOHT"
      },
      "source": [
        "## 투표 기반 분류와 회귀"
      ]
    },
    {
      "cell_type": "code",
      "metadata": {
        "id": "o8n6InBTnk3e"
      },
      "source": [
        "from sklearn.ensemble import VotingClassifier, VotingRegressor"
      ],
      "execution_count": 7,
      "outputs": []
    },
    {
      "cell_type": "markdown",
      "metadata": {
        "id": "imDxfPo4narJ"
      },
      "source": [
        "### 투표 기반 분류"
      ]
    },
    {
      "cell_type": "code",
      "metadata": {
        "id": "BKi1c7JFoMnJ"
      },
      "source": [
        "from sklearn.svm import SVC\n",
        "from sklearn.naive_bayes import GaussianNB\n",
        "from sklearn.linear_model import SGDClassifier"
      ],
      "execution_count": 8,
      "outputs": []
    },
    {
      "cell_type": "code",
      "metadata": {
        "id": "gSC0POxOn9zM"
      },
      "source": [
        "model1 = SVC()\n",
        "model2 = GaussianNB()\n",
        "model3 = SGDClassifier()"
      ],
      "execution_count": 9,
      "outputs": []
    },
    {
      "cell_type": "code",
      "metadata": {
        "id": "i1oSCQzCmCS3"
      },
      "source": [
        "vote_model = VotingClassifier(\n",
        "    estimators = [('svc', model1), (\"guassioan\", model2), (\"sgd\", model3)]\n",
        ")"
      ],
      "execution_count": 10,
      "outputs": []
    },
    {
      "cell_type": "code",
      "metadata": {
        "colab": {
          "base_uri": "https://localhost:8080/"
        },
        "id": "hzzX0ddVol94",
        "outputId": "e974c760-33ed-4cd0-dd4a-6ac123ee6820"
      },
      "source": [
        "for model in (model1, model2, model3, vote_model):\n",
        "  model_name = str(type(model)).split('.')[-1][:-2]\n",
        "  scores = cross_val_score(model, iris.data, iris.target, cv=5)\n",
        "  print(f\"{model_name}, Accuracy: {scores.mean()}\")"
      ],
      "execution_count": 12,
      "outputs": [
        {
          "output_type": "stream",
          "text": [
            "SVC, Accuracy: 0.9666666666666666\n",
            "GaussianNB, Accuracy: 0.9533333333333334\n",
            "SGDClassifier, Accuracy: 0.8666666666666666\n",
            "VotingClassifier, Accuracy: 0.9466666666666665\n"
          ],
          "name": "stdout"
        }
      ]
    },
    {
      "cell_type": "markdown",
      "metadata": {
        "id": "ocFET6z8pYQN"
      },
      "source": [
        "### 투표 기반 회귀"
      ]
    },
    {
      "cell_type": "code",
      "metadata": {
        "id": "_VF575BTpbFa"
      },
      "source": [
        "from sklearn.svm import SVR\n",
        "from sklearn.linear_model import SGDRegressor, LinearRegression"
      ],
      "execution_count": 14,
      "outputs": []
    },
    {
      "cell_type": "code",
      "metadata": {
        "id": "BpcFFTkppvRP"
      },
      "source": [
        "model1 = SVR()\n",
        "model2 = SGDRegressor()\n",
        "model3 = LinearRegression()"
      ],
      "execution_count": 25,
      "outputs": []
    },
    {
      "cell_type": "code",
      "metadata": {
        "id": "AHrPvf8epjum"
      },
      "source": [
        "vote_model = VotingRegressor(\n",
        "    estimators = [(\"svm\", model1), (\"sgd\", model2), (\"linear\", model3)]\n",
        ")"
      ],
      "execution_count": 26,
      "outputs": []
    },
    {
      "cell_type": "code",
      "metadata": {
        "colab": {
          "base_uri": "https://localhost:8080/"
        },
        "id": "WtjeRFUPp9oJ",
        "outputId": "d80a1966-f77f-47a4-e1c8-f1dc228d7435"
      },
      "source": [
        "for model in (model1, model2, model3, vote_model):\n",
        "  model_name = str(type(model)).split('.')[-1][:-2]\n",
        "  scores = -cross_val_score(model, boston.data, boston.target, scoring='neg_mean_squared_error',cv=5)\n",
        "  print(f\"{model_name}, Accuracy: {scores.mean()}\")"
      ],
      "execution_count": 27,
      "outputs": [
        {
          "output_type": "stream",
          "text": [
            "SVR, Accuracy: 71.85800739156483\n",
            "SGDRegressor, Accuracy: 6.331453067269364e+27\n",
            "LinearRegression, Accuracy: 37.13180746769903\n",
            "VotingRegressor, Accuracy: 3.3003590163164434e+27\n"
          ],
          "name": "stdout"
        }
      ]
    },
    {
      "cell_type": "markdown",
      "metadata": {
        "id": "jyNEy323r_0u"
      },
      "source": [
        "투표 기반 회귀는 잘 사용되지 않음..."
      ]
    },
    {
      "cell_type": "markdown",
      "metadata": {
        "id": "YX52S4lumR0q"
      },
      "source": [
        "## 배깅"
      ]
    },
    {
      "cell_type": "markdown",
      "metadata": {
        "id": "16OL3ZBm3bkr"
      },
      "source": [
        "- n_estimators: 사용할 예측기 갯수\n",
        "- max_samples: 무작위로 뽑을 샘플의 양 (배깅이므로 무작위 복원 추출)\n",
        "- max_features: 사용할 데이터의 속성 갯수 (속성 값도 전체를 사용하지 않고 랜덤하게 학습)"
      ]
    },
    {
      "cell_type": "code",
      "metadata": {
        "id": "epQAaeXztcqQ"
      },
      "source": [
        "from sklearn.ensemble import BaggingClassifier, BaggingRegressor"
      ],
      "execution_count": 28,
      "outputs": []
    },
    {
      "cell_type": "markdown",
      "metadata": {
        "id": "dGbw3nbVtXLX"
      },
      "source": [
        "### 베깅 사용 분류"
      ]
    },
    {
      "cell_type": "code",
      "metadata": {
        "colab": {
          "base_uri": "https://localhost:8080/"
        },
        "id": "Pl7BewybmSFK",
        "outputId": "ea307eca-c817-4700-ab03-00b4f4a5e5e9"
      },
      "source": [
        "base_model = BaggingClassifier(SVC(), n_estimators=10, max_samples=0.5, max_features=0.5)\n",
        "cross_val = cross_validate(\n",
        "    estimator = base_model, X = iris.data, y = iris.target, cv = 5\n",
        ")\n",
        "print(f\"{cross_val['test_score'].mean()}\")"
      ],
      "execution_count": 34,
      "outputs": [
        {
          "output_type": "stream",
          "text": [
            "0.9466666666666667\n"
          ],
          "name": "stdout"
        }
      ]
    },
    {
      "cell_type": "code",
      "metadata": {
        "colab": {
          "base_uri": "https://localhost:8080/"
        },
        "id": "rbiRwBrZt2SP",
        "outputId": "19d13d18-9623-4d54-aac6-d82348ca25ba"
      },
      "source": [
        "from sklearn.preprocessing import StandardScaler\n",
        "\n",
        "base_model = make_pipeline(\n",
        "    StandardScaler(),\n",
        "    SVC()\n",
        ")\n",
        "bagging_model = BaggingClassifier(base_model, n_estimators=10, max_samples=0.5, max_features=0.5)\n",
        "\n",
        "base_cross_val = cross_validate(\n",
        "    estimator = base_model, X = wine.data, y = wine.target, cv = 5\n",
        ")\n",
        "print(f\"base: {base_cross_val['test_score'].mean()}\")\n",
        "\n",
        "bagging_cross_val = cross_validate(\n",
        "    estimator = bagging_model, X = wine.data, y = wine.target, cv = 5\n",
        ")\n",
        "print(f\"bagging: {bagging_cross_val['test_score'].mean()}\")"
      ],
      "execution_count": 45,
      "outputs": [
        {
          "output_type": "stream",
          "text": [
            "base: 0.9833333333333334\n",
            "bagging: 0.9607936507936508\n"
          ],
          "name": "stdout"
        }
      ]
    },
    {
      "cell_type": "code",
      "metadata": {
        "colab": {
          "base_uri": "https://localhost:8080/"
        },
        "id": "OsT5UGy1vPCL",
        "outputId": "0dc51558-0dfb-4ee8-ec11-ff0c59950671"
      },
      "source": [
        "from sklearn.preprocessing import StandardScaler\n",
        "\n",
        "base_model = make_pipeline(\n",
        "    StandardScaler(),\n",
        "    GaussianNB()\n",
        ")\n",
        "bagging_model = BaggingClassifier(base_model, n_estimators=10, max_samples=0.5, max_features=0.5)\n",
        "\n",
        "base_cross_val = cross_validate(\n",
        "    estimator = base_model, X = wine.data, y = wine.target, cv = 5\n",
        ")\n",
        "print(f\"base: {base_cross_val['test_score'].mean()}\")\n",
        "\n",
        "bagging_cross_val = cross_validate(\n",
        "    estimator = bagging_model, X = wine.data, y = wine.target, cv = 5\n",
        ")\n",
        "print(f\"bagging: {bagging_cross_val['test_score'].mean()}\")"
      ],
      "execution_count": 46,
      "outputs": [
        {
          "output_type": "stream",
          "text": [
            "base: 0.9663492063492063\n",
            "bagging: 0.9441269841269841\n"
          ],
          "name": "stdout"
        }
      ]
    },
    {
      "cell_type": "markdown",
      "metadata": {
        "id": "1IBeRa1ctaNO"
      },
      "source": [
        "### 베깅 사용 회귀"
      ]
    },
    {
      "cell_type": "code",
      "metadata": {
        "colab": {
          "base_uri": "https://localhost:8080/"
        },
        "id": "jkCYa0dttaUY",
        "outputId": "7d100543-1768-4f4e-82e0-82fc89d910bf"
      },
      "source": [
        "from sklearn.preprocessing import StandardScaler\n",
        "\n",
        "base_model = make_pipeline(\n",
        "    StandardScaler(),\n",
        "    SVR()\n",
        ")\n",
        "bagging_model = BaggingRegressor(base_model, n_estimators=10, max_samples=0.5, max_features=0.5)\n",
        "\n",
        "base_cross_val = cross_validate(\n",
        "    estimator = base_model, X = boston.data, y = boston.target, cv = 5\n",
        ")\n",
        "print(f\"base: {base_cross_val['test_score'].mean()}\")\n",
        "\n",
        "bagging_cross_val = cross_validate(\n",
        "    estimator = bagging_model, X = wine.data, y = wine.target, cv = 5\n",
        ")\n",
        "print(f\"bagging: {bagging_cross_val['test_score'].mean()}\")"
      ],
      "execution_count": 49,
      "outputs": [
        {
          "output_type": "stream",
          "text": [
            "base: 0.17631266230186618\n",
            "bagging: 0.22878911567010385\n"
          ],
          "name": "stdout"
        }
      ]
    },
    {
      "cell_type": "markdown",
      "metadata": {
        "id": "OFUfSpEnmSOa"
      },
      "source": [
        "## Ada boost"
      ]
    },
    {
      "cell_type": "code",
      "metadata": {
        "id": "ngY4i_BG4NGN"
      },
      "source": [
        "from sklearn.ensemble import AdaBoostClassifier, AdaBoostRegressor"
      ],
      "execution_count": 50,
      "outputs": []
    },
    {
      "cell_type": "markdown",
      "metadata": {
        "id": "IK1uZl6U4Fxw"
      },
      "source": [
        "### AdaBoost 분류"
      ]
    },
    {
      "cell_type": "code",
      "metadata": {
        "id": "KvDNcP4P4FBS"
      },
      "source": [
        "model = make_pipeline(\n",
        "    StandardScaler(),\n",
        "    AdaBoostClassifier()\n",
        ")"
      ],
      "execution_count": 51,
      "outputs": []
    },
    {
      "cell_type": "code",
      "metadata": {
        "colab": {
          "base_uri": "https://localhost:8080/"
        },
        "id": "O0gN8neC4Xbb",
        "outputId": "88793786-1ecc-470e-9117-20cb614b74a0"
      },
      "source": [
        "cross_val = cross_validate(estimator=model, X=iris.data, y=iris.target, cv = 5)\n",
        "print(f\"{cross_val['test_score'].mean()}\")"
      ],
      "execution_count": 55,
      "outputs": [
        {
          "output_type": "stream",
          "text": [
            "0.9466666666666667\n"
          ],
          "name": "stdout"
        }
      ]
    },
    {
      "cell_type": "code",
      "metadata": {
        "colab": {
          "base_uri": "https://localhost:8080/"
        },
        "id": "f4P-VpAO4ugo",
        "outputId": "15712012-cc9e-4c22-b3b9-53fc334df04b"
      },
      "source": [
        "cross_val = cross_validate(estimator=model, X=wine.data, y=wine.target, cv = 5)\n",
        "print(f\"{cross_val['test_score'].mean()}\")"
      ],
      "execution_count": 56,
      "outputs": [
        {
          "output_type": "stream",
          "text": [
            "0.8085714285714285\n"
          ],
          "name": "stdout"
        }
      ]
    },
    {
      "cell_type": "markdown",
      "metadata": {
        "id": "7FjSu2MG4GO_"
      },
      "source": [
        "### AdaBoost 회귀"
      ]
    },
    {
      "cell_type": "code",
      "metadata": {
        "id": "wphS7XFqmSXD"
      },
      "source": [
        "model = make_pipeline(\n",
        "    StandardScaler(),\n",
        "    AdaBoostRegressor()\n",
        ")"
      ],
      "execution_count": 57,
      "outputs": []
    },
    {
      "cell_type": "code",
      "metadata": {
        "colab": {
          "base_uri": "https://localhost:8080/"
        },
        "id": "iwekcq6t41Mr",
        "outputId": "7fdaf039-5a6b-4f46-c59e-23ef22d8ceae"
      },
      "source": [
        "cross_val = cross_validate(estimator=model, X=boston.data, y=boston.target, cv = 5)\n",
        "print(f\"{cross_val['test_score'].mean()}\")"
      ],
      "execution_count": 58,
      "outputs": [
        {
          "output_type": "stream",
          "text": [
            "0.56313831539566\n"
          ],
          "name": "stdout"
        }
      ]
    }
  ]
}