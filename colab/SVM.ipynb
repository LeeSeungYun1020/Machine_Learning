{
  "nbformat": 4,
  "nbformat_minor": 0,
  "metadata": {
    "colab": {
      "name": "SVM.ipynb",
      "provenance": [],
      "authorship_tag": "ABX9TyNrUyoBllRntv+Cqg0kdgHy",
      "include_colab_link": true
    },
    "kernelspec": {
      "name": "python3",
      "display_name": "Python 3"
    },
    "language_info": {
      "name": "python"
    }
  },
  "cells": [
    {
      "cell_type": "markdown",
      "metadata": {
        "id": "view-in-github",
        "colab_type": "text"
      },
      "source": [
        "<a href=\"https://colab.research.google.com/github/LeeSeungYun1020/Machine_Learning/blob/main/colab/SVM.ipynb\" target=\"_parent\"><img src=\"https://colab.research.google.com/assets/colab-badge.svg\" alt=\"Open In Colab\"/></a>"
      ]
    },
    {
      "cell_type": "markdown",
      "metadata": {
        "id": "JRdh0IW-cYuG"
      },
      "source": [
        "# SVM을 사용한 분류 (SVC)"
      ]
    },
    {
      "cell_type": "code",
      "metadata": {
        "id": "CFhca9WmcXzL"
      },
      "source": [
        "from sklearn.datasets import load_breast_cancer, load_boston\n",
        "from sklearn.model_selection import train_test_split\n",
        "from sklearn.svm import SVC, SVR"
      ],
      "execution_count": 32,
      "outputs": []
    },
    {
      "cell_type": "code",
      "metadata": {
        "id": "T0qma73zdjJZ"
      },
      "source": [
        "# 데이터 불러오기\n",
        "x, y = load_breast_cancer(return_X_y=True)"
      ],
      "execution_count": 33,
      "outputs": []
    },
    {
      "cell_type": "code",
      "metadata": {
        "colab": {
          "base_uri": "https://localhost:8080/"
        },
        "id": "XR_cy8CqdwxR",
        "outputId": "963f59f5-846e-425e-fb9d-81be1eaf1d06"
      },
      "source": [
        "print(x.shape, y.shape)"
      ],
      "execution_count": 34,
      "outputs": [
        {
          "output_type": "stream",
          "text": [
            "(569, 30) (569,)\n"
          ],
          "name": "stdout"
        }
      ]
    },
    {
      "cell_type": "code",
      "metadata": {
        "id": "sshr82zFd4aj"
      },
      "source": [
        "# 데이터 분할\n",
        "x_train, x_test, y_train, y_test = train_test_split(x, y, random_state=100)"
      ],
      "execution_count": 35,
      "outputs": []
    },
    {
      "cell_type": "code",
      "metadata": {
        "id": "L1JX-vdYeJ79"
      },
      "source": [
        "# 모델 선택\n",
        "model = SVC()"
      ],
      "execution_count": 36,
      "outputs": []
    },
    {
      "cell_type": "code",
      "metadata": {
        "colab": {
          "base_uri": "https://localhost:8080/"
        },
        "id": "nJEJp78teR3b",
        "outputId": "d2463d88-fa5d-45dc-ff8e-3b9bc7f25a9a"
      },
      "source": [
        "model.fit(x_train, y_train)"
      ],
      "execution_count": 37,
      "outputs": [
        {
          "output_type": "execute_result",
          "data": {
            "text/plain": [
              "SVC(C=1.0, break_ties=False, cache_size=200, class_weight=None, coef0=0.0,\n",
              "    decision_function_shape='ovr', degree=3, gamma='scale', kernel='rbf',\n",
              "    max_iter=-1, probability=False, random_state=None, shrinking=True,\n",
              "    tol=0.001, verbose=False)"
            ]
          },
          "metadata": {
            "tags": []
          },
          "execution_count": 37
        }
      ]
    },
    {
      "cell_type": "code",
      "metadata": {
        "colab": {
          "base_uri": "https://localhost:8080/"
        },
        "id": "RPwjfw_9eV98",
        "outputId": "1bd7c34d-fd5b-4946-983d-9630d40232f5"
      },
      "source": [
        "# 학습 및 평가 데이터 점수\n",
        "print(f\"학습 데이터 점수: {model.score(x_train, y_train)}\")\n",
        "print(f\"평가 데이터 점수: {model.score(x_test, y_test)}\")"
      ],
      "execution_count": 38,
      "outputs": [
        {
          "output_type": "stream",
          "text": [
            "학습 데이터 점수: 0.8943661971830986\n",
            "평가 데이터 점수: 0.9440559440559441\n"
          ],
          "name": "stdout"
        }
      ]
    },
    {
      "cell_type": "markdown",
      "metadata": {
        "id": "0XtUnhNfczTX"
      },
      "source": [
        "# SVM을 사용한 회귀 (SVR)"
      ]
    },
    {
      "cell_type": "code",
      "metadata": {
        "colab": {
          "base_uri": "https://localhost:8080/"
        },
        "id": "ALueMUDkc3LT",
        "outputId": "74e027ec-e1c1-4ad4-c648-456185cccd1f"
      },
      "source": [
        "# 데이터 가져오기\n",
        "x, y = load_boston(return_X_y=True)\n",
        "print(x.shape, y.shape)"
      ],
      "execution_count": 39,
      "outputs": [
        {
          "output_type": "stream",
          "text": [
            "(506, 13) (506,)\n"
          ],
          "name": "stdout"
        }
      ]
    },
    {
      "cell_type": "code",
      "metadata": {
        "id": "AHV9KQ59fHq9"
      },
      "source": [
        "# 데이터 분할\n",
        "x_train, x_test, y_train, y_test = train_test_split(x, y, random_state=100)"
      ],
      "execution_count": 40,
      "outputs": []
    },
    {
      "cell_type": "code",
      "metadata": {
        "id": "2pyFmsu1fBaT"
      },
      "source": [
        "# 모델 선택\n",
        "model = SVR()"
      ],
      "execution_count": 41,
      "outputs": []
    },
    {
      "cell_type": "code",
      "metadata": {
        "colab": {
          "base_uri": "https://localhost:8080/"
        },
        "id": "NbLdBk8VfFCP",
        "outputId": "386b3a0b-5280-4dde-eb81-cf7b0cf51b13"
      },
      "source": [
        "# 모델 학습\n",
        "model.fit(x_train, y_train)"
      ],
      "execution_count": 42,
      "outputs": [
        {
          "output_type": "execute_result",
          "data": {
            "text/plain": [
              "SVR(C=1.0, cache_size=200, coef0=0.0, degree=3, epsilon=0.1, gamma='scale',\n",
              "    kernel='rbf', max_iter=-1, shrinking=True, tol=0.001, verbose=False)"
            ]
          },
          "metadata": {
            "tags": []
          },
          "execution_count": 42
        }
      ]
    },
    {
      "cell_type": "code",
      "metadata": {
        "colab": {
          "base_uri": "https://localhost:8080/"
        },
        "id": "fblNaYiofSiX",
        "outputId": "8bafd9d1-6714-48cf-c025-784b1af1e40f"
      },
      "source": [
        "# 모델 평가\n",
        "print(f\"train score: {model.score(x_train, y_train)}\")\n",
        "print(f\"test score: {model.score(x_test, y_test)}\")"
      ],
      "execution_count": 43,
      "outputs": [
        {
          "output_type": "stream",
          "text": [
            "train score: 0.2149950338383958\n",
            "test score: 0.2060097280934967\n"
          ],
          "name": "stdout"
        }
      ]
    },
    {
      "cell_type": "markdown",
      "metadata": {
        "id": "9_HyEM0ac76d"
      },
      "source": [
        "# 커널 기법을 사용한 분류 (SVC)"
      ]
    },
    {
      "cell_type": "code",
      "metadata": {
        "id": "F_NsrbUZdAEO"
      },
      "source": [
        "x, y = load_breast_cancer(True)\n",
        "x_train, x_test, y_train, y_test = train_test_split(x, y, random_state=100)"
      ],
      "execution_count": 54,
      "outputs": []
    },
    {
      "cell_type": "code",
      "metadata": {
        "colab": {
          "base_uri": "https://localhost:8080/"
        },
        "id": "m41h2PGQgOP6",
        "outputId": "65749c90-4c91-4d6b-8abd-f66bb6d994e7"
      },
      "source": [
        "model = SVC(kernel=\"linear\")\n",
        "model.fit(x_train, y_train)\n",
        "print(f\"kernel(linear) train score: {model.score(x_train, y_train)}\")\n",
        "print(f\"kernel(linear) test score: {model.score(x_test, y_test)}\")"
      ],
      "execution_count": 57,
      "outputs": [
        {
          "output_type": "stream",
          "text": [
            "kernel(linear) train score: 0.9624413145539906\n",
            "kernel(linear) test score: 0.958041958041958\n"
          ],
          "name": "stdout"
        }
      ]
    },
    {
      "cell_type": "code",
      "metadata": {
        "colab": {
          "base_uri": "https://localhost:8080/"
        },
        "id": "pJg4mICugWbK",
        "outputId": "817cd3c3-999a-4eb4-e8fd-333c67529a3b"
      },
      "source": [
        "model = SVC(kernel=\"poly\")\n",
        "model.fit(x_train, y_train)\n",
        "print(f\"kernel(poly) train score: {model.score(x_train, y_train)}\")\n",
        "print(f\"kernel(poly) test score: {model.score(x_test, y_test)}\")"
      ],
      "execution_count": 58,
      "outputs": [
        {
          "output_type": "stream",
          "text": [
            "kernel(poly) train score: 0.8943661971830986\n",
            "kernel(poly) test score: 0.9440559440559441\n"
          ],
          "name": "stdout"
        }
      ]
    },
    {
      "cell_type": "code",
      "metadata": {
        "colab": {
          "base_uri": "https://localhost:8080/"
        },
        "id": "YuO-2O4lhnzG",
        "outputId": "f3b3e729-09d2-4c19-e37b-7e26db333cc2"
      },
      "source": [
        "model = SVC(kernel=\"rbf\") # default\n",
        "model.fit(x_train, y_train)\n",
        "print(f\"kernel(rbf) train score: {model.score(x_train, y_train)}\")\n",
        "print(f\"kernel(rbf) test score: {model.score(x_test, y_test)}\")"
      ],
      "execution_count": 59,
      "outputs": [
        {
          "output_type": "stream",
          "text": [
            "kernel(rbf) train score: 0.8943661971830986\n",
            "kernel(rbf) test score: 0.9440559440559441\n"
          ],
          "name": "stdout"
        }
      ]
    },
    {
      "cell_type": "markdown",
      "metadata": {
        "id": "oQ0zJagtdAL-"
      },
      "source": [
        "# 커널 기법을 사용한 회귀 (SVR)"
      ]
    },
    {
      "cell_type": "code",
      "metadata": {
        "colab": {
          "base_uri": "https://localhost:8080/"
        },
        "id": "OoTLwQVmdDlQ",
        "outputId": "f14fbea4-647a-496d-cc1d-22b161e9aab2"
      },
      "source": [
        "x, y = load_boston(True)\n",
        "x_train, x_test, y_train, y_test = train_test_split(x, y, random_state=100)\n",
        "for kernel in [\"linear\", \"poly\", \"rbf\"]:\n",
        "  model = SVR(kernel=kernel)\n",
        "  model.fit(x_train, y_train)\n",
        "  print(f\"kernel({kernel}) train score: {model.score(x_train, y_train)}\")\n",
        "  print(f\"kernel({kernel}) test score: {model.score(x_test, y_test)}\")"
      ],
      "execution_count": 61,
      "outputs": [
        {
          "output_type": "stream",
          "text": [
            "kernel(linear) train score: 0.7174340100454817\n",
            "kernel(linear) test score: 0.6801104100555064\n",
            "kernel(poly) train score: 0.1991283626139405\n",
            "kernel(poly) test score: 0.20278278095499502\n",
            "kernel(rbf) train score: 0.2149950338383958\n",
            "kernel(rbf) test score: 0.2060097280934967\n"
          ],
          "name": "stdout"
        }
      ]
    },
    {
      "cell_type": "markdown",
      "metadata": {
        "id": "8GeQnzKCi14A"
      },
      "source": [
        "# SVM 매개변수\n",
        " - SVM 커널에 따라 다양한 매개변수 설정\n",
        " - 주로 사용하는 매개변수\n",
        "  * kernel: 사용할 커널 기법\n",
        "  * C: 하드 마진, 소프트 마진 결정\n",
        "    - 데이터 샘플이 다른 클래스에 놓이는 것을 허용하는지를 결정\n",
        "    - C 낮게 -> 이상치 허용 -> 과속적합\n",
        "    - C 높게 -> 이상치 없음 -> 과대적합\n",
        "  * gamma: 유사도 특성"
      ]
    },
    {
      "cell_type": "code",
      "metadata": {
        "colab": {
          "base_uri": "https://localhost:8080/"
        },
        "id": "duyNf18njP1V",
        "outputId": "741ded45-83b9-44c4-e2dd-77d563a8696c"
      },
      "source": [
        "x, y = load_breast_cancer(True)\n",
        "x_train, x_test, y_train, y_test = train_test_split(x, y, random_state=100)\n",
        "model = SVC(kernel=\"poly\", degree=2, gamma=\"auto\", C=0.1) # 다항식, 2차\n",
        "model.fit(x_train, y_train)\n",
        "print(f\"kernel(poly) train score: {model.score(x_train, y_train)}\")\n",
        "print(f\"kernel(poly) test score: {model.score(x_test, y_test)}\")"
      ],
      "execution_count": 62,
      "outputs": [
        {
          "output_type": "stream",
          "text": [
            "kernel(poly) train score: 0.9741784037558685\n",
            "kernel(poly) test score: 0.958041958041958\n"
          ],
          "name": "stdout"
        }
      ]
    },
    {
      "cell_type": "code",
      "metadata": {
        "colab": {
          "base_uri": "https://localhost:8080/"
        },
        "id": "19L_hTFEkZ_3",
        "outputId": "b8b02afa-1f35-4194-b4b9-6cf3f0823400"
      },
      "source": [
        "x, y = load_breast_cancer(True)\n",
        "x_train, x_test, y_train, y_test = train_test_split(x, y, random_state=100)\n",
        "model = SVC(kernel=\"rbf\", gamma=\"auto\", C=1.0) # 하드 마진\n",
        "model.fit(x_train, y_train)\n",
        "print(f\"kernel(rbf) train score: {model.score(x_train, y_train)}\")\n",
        "print(f\"kernel(rbf) test score: {model.score(x_test, y_test)}\")"
      ],
      "execution_count": 67,
      "outputs": [
        {
          "output_type": "stream",
          "text": [
            "kernel(rbf) train score: 1.0\n",
            "kernel(rbf) test score: 0.6083916083916084\n"
          ],
          "name": "stdout"
        }
      ]
    },
    {
      "cell_type": "markdown",
      "metadata": {
        "id": "TFniIlDglUCf"
      },
      "source": [
        "# 매우 간단한 데이터 전처리"
      ]
    },
    {
      "cell_type": "code",
      "metadata": {
        "colab": {
          "base_uri": "https://localhost:8080/"
        },
        "id": "B7cbyV2alW1M",
        "outputId": "fa640337-4d59-4084-924a-1a79ca4c3e89"
      },
      "source": [
        "x, y = load_breast_cancer(True)\n",
        "x_train, x_test, y_train, y_test = train_test_split(x, y, random_state=100)\n",
        "model = SVC()\n",
        "model.fit(x_train, y_train)\n",
        "print(f\"kernel(poly) train score: {model.score(x_train, y_train)}\")\n",
        "print(f\"kernel(poly) test score: {model.score(x_test, y_test)}\")"
      ],
      "execution_count": 68,
      "outputs": [
        {
          "output_type": "stream",
          "text": [
            "kernel(poly) train score: 0.8943661971830986\n",
            "kernel(poly) test score: 0.9440559440559441\n"
          ],
          "name": "stdout"
        }
      ]
    },
    {
      "cell_type": "code",
      "metadata": {
        "colab": {
          "base_uri": "https://localhost:8080/"
        },
        "id": "HhKmN_sMli2B",
        "outputId": "79fec508-60e1-4e55-9e9c-b712710fea02"
      },
      "source": [
        "from sklearn.preprocessing import StandardScaler, MinMaxScaler\n",
        "scaler = StandardScaler()\n",
        "x_train = scaler.fit_transform(x_train)\n",
        "x_test = scaler.fit_transform(x_test)\n",
        "\n",
        "model = SVC()\n",
        "model.fit(x_train, y_train)\n",
        "print(f\"kernel(poly) train score: {model.score(x_train, y_train)}\")\n",
        "print(f\"kernel(poly) test score: {model.score(x_test, y_test)}\")"
      ],
      "execution_count": 72,
      "outputs": [
        {
          "output_type": "stream",
          "text": [
            "kernel(poly) train score: 0.9882629107981221\n",
            "kernel(poly) test score: 0.951048951048951\n"
          ],
          "name": "stdout"
        }
      ]
    },
    {
      "cell_type": "code",
      "metadata": {
        "colab": {
          "base_uri": "https://localhost:8080/"
        },
        "id": "N05L2Hp9mKKm",
        "outputId": "f7591971-ec1a-4e34-9f53-65a0f37db78a"
      },
      "source": [
        "scaler = MinMaxScaler()\n",
        "x_train = scaler.fit_transform(x_train)\n",
        "x_test = scaler.fit_transform(x_test)\n",
        "\n",
        "model = SVC()\n",
        "model.fit(x_train, y_train)\n",
        "print(f\"kernel(poly) train score: {model.score(x_train, y_train)}\")\n",
        "print(f\"kernel(poly) test score: {model.score(x_test, y_test)}\")"
      ],
      "execution_count": 73,
      "outputs": [
        {
          "output_type": "stream",
          "text": [
            "kernel(poly) train score: 0.9859154929577465\n",
            "kernel(poly) test score: 0.9370629370629371\n"
          ],
          "name": "stdout"
        }
      ]
    }
  ]
}